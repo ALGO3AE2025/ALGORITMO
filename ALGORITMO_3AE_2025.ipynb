{
  "nbformat": 4,
  "nbformat_minor": 0,
  "metadata": {
    "colab": {
      "provenance": [],
      "authorship_tag": "ABX9TyMeKNfMrbbJciuAsTE2LVla",
      "include_colab_link": true
    },
    "kernelspec": {
      "name": "python3",
      "display_name": "Python 3"
    },
    "language_info": {
      "name": "python"
    }
  },
  "cells": [
    {
      "cell_type": "markdown",
      "metadata": {
        "id": "view-in-github",
        "colab_type": "text"
      },
      "source": [
        "<a href=\"https://colab.research.google.com/github/ALGO3AE2025/ALGORITMO/blob/main/ALGORITMO_3AE_2025.ipynb\" target=\"_parent\"><img src=\"https://colab.research.google.com/assets/colab-badge.svg\" alt=\"Open In Colab\"/></a>"
      ]
    },
    {
      "cell_type": "code",
      "execution_count": null,
      "metadata": {
        "id": "fqJnaevP6BGJ"
      },
      "outputs": [],
      "source": []
    },
    {
      "cell_type": "markdown",
      "source": [
        "ALGORITMO ANALISADOR DE ANOMALIAS EXTRATERRESTRES - 3AE"
      ],
      "metadata": {
        "id": "IioaW6qH6G9N"
      }
    },
    {
      "cell_type": "code",
      "source": [
        "import random\n",
        "\n",
        "class ArtefatoAlienigena:\n",
        "    def __init__(self, **kwargs):\n",
        "        self.atributos = {\n",
        "            \"material\": kwargs.get(\"material\", 5),\n",
        "            \"estrutura\": kwargs.get(\"estrutura\", 5),\n",
        "            \"interacao_termica\": kwargs.get(\"interacao_termica\", 5),\n",
        "            \"tecnologia\": kwargs.get(\"tecnologia\", 5),\n",
        "            \"impacto_ambiental\": kwargs.get(\"impacto_ambiental\", 5),\n",
        "            \"comportamento_eletromagnetico\": kwargs.get(\"comportamento_eletromagnetico\", 5),\n",
        "            \"analise_biologica\": kwargs.get(\"analise_biologica\", 5),\n",
        "            \"analise_quimica\": kwargs.get(\"analise_quimica\", 5),\n",
        "            \"origem_espacial\": kwargs.get(\"origem_espacial\", 5),\n",
        "            \"comunicacao\": kwargs.get(\"comunicacao\", 5),\n",
        "            \"interacao_gravitacional\": kwargs.get(\"interacao_gravitacional\", 5),\n",
        "            \"mudanca_estado\": kwargs.get(\"mudanca_estado\", 5),\n",
        "            \"autonomia\": kwargs.get(\"autonomia\", 5),\n",
        "            \"similaridade_tecnologica\": kwargs.get(\"similaridade_tecnologica\", 5),\n",
        "            \"singularidade\": kwargs.get(\"singularidade\", 5),\n",
        "        }\n",
        "\n",
        "        # Garantir que os valores estejam entre 0 e 10\n",
        "        for atributo in self.atributos:\n",
        "            self.atributos[atributo] = max(0, min(10, self.atributos[atributo]))\n",
        "\n",
        "        self.historico_analises = []  # Armazena resultados anteriores\n",
        "\n",
        "    def calcular_ameaca(self, pesos_personalizados=None):\n",
        "        pesos_padrao = {\n",
        "            \"material\": 0.10, \"estrutura\": 0.10, \"interacao_termica\": 0.09, \"tecnologia\": 0.10,\n",
        "            \"impacto_ambiental\": 0.08, \"comportamento_eletromagnetico\": 0.09, \"analise_biologica\": 0.07,\n",
        "            \"analise_quimica\": 0.08, \"origem_espacial\": 0.08, \"comunicacao\": 0.07,\n",
        "            \"interacao_gravitacional\": 0.07, \"mudanca_estado\": 0.06, \"autonomia\": 0.07,\n",
        "            \"similaridade_tecnologica\": 0.06, \"singularidade\": 0.09,\n",
        "        }\n",
        "\n",
        "        pesos = pesos_personalizados if pesos_personalizados else pesos_padrao\n",
        "        score = sum(self.atributos[fator] * peso for fator, peso in pesos.items())\n",
        "        score = (score / (10 * sum(pesos.values()))) * 100\n",
        "\n",
        "        resultado = f\"Probabilidade de ameaça: {score:.2f}%\"\n",
        "        self.historico_analises.append(resultado)  # Registra a análise\n",
        "        return resultado\n",
        "\n",
        "    def comparar_com_artefato(self, outro_artefato):\n",
        "        diferencas = {atributo: abs(self.atributos[atributo] - outro_artefato.atributos[atributo]) for atributo in self.atributos}\n",
        "        similaridade = (1 - (sum(diferencas.values()) / (len(diferencas) * 10))) * 100\n",
        "        return f\"Similaridade entre artefatos: {similaridade:.2f}%\"\n",
        "\n",
        "    def exibir_historico(self):\n",
        "        return self.historico_analises\n",
        "\n",
        "# Criando artefatos para análise\n",
        "esfera_buga = ArtefatoAlienigena(material=8, estrutura=9, interacao_termica=7, tecnologia=8, impacto_ambiental=6,\n",
        "                                 comportamento_eletromagnetico=7, analise_biologica=8, analise_quimica=7, origem_espacial=5,\n",
        "                                 comunicacao=7, interacao_gravitacional=6, mudanca_estado=5, autonomia=7,\n",
        "                                 similaridade_tecnologica=4, singularidade=9)\n",
        "\n",
        "artefato_misterioso = ArtefatoAlienigena(material=7, estrutura=8, interacao_termica=6, tecnologia=7, impacto_ambiental=5,\n",
        "                                         comportamento_eletromagnetico=6, analise_biologica=7, analise_quimica=6, origem_espacial=6,\n",
        "                                         comunicacao=6, interacao_gravitacional=5, mudanca_estado=4, autonomia=6,\n",
        "                                         similaridade_tecnologica=5, singularidade=8)\n",
        "\n",
        "# Testando o algoritmo\n",
        "print(esfera_buga.calcular_ameaca())\n",
        "print(artefato_misterioso.calcular_ameaca())\n",
        "print(esfera_buga.comparar_com_artefato(artefato_misterioso))\n",
        "print(esfera_buga.exibir_historico())\n"
      ],
      "metadata": {
        "colab": {
          "base_uri": "https://localhost:8080/"
        },
        "id": "RzPBF1cs6T7x",
        "outputId": "d139bf98-d34c-47a7-dbc9-e8d286138e1b"
      },
      "execution_count": 2,
      "outputs": [
        {
          "output_type": "stream",
          "name": "stdout",
          "text": [
            "Probabilidade de ameaça: 70.33%\n",
            "Probabilidade de ameaça: 62.64%\n",
            "Similaridade entre artefatos: 90.00%\n",
            "['Probabilidade de ameaça: 70.33%']\n"
          ]
        }
      ]
    }
  ]
}