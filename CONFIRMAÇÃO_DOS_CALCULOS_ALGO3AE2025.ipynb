{
  "nbformat": 4,
  "nbformat_minor": 0,
  "metadata": {
    "colab": {
      "provenance": [],
      "authorship_tag": "ABX9TyMbglhcjmPY6VWvQafl5Z/p",
      "include_colab_link": true
    },
    "kernelspec": {
      "name": "python3",
      "display_name": "Python 3"
    },
    "language_info": {
      "name": "python"
    }
  },
  "cells": [
    {
      "cell_type": "markdown",
      "metadata": {
        "id": "view-in-github",
        "colab_type": "text"
      },
      "source": [
        "<a href=\"https://colab.research.google.com/github/ALGO3AE2025/ALGORITMO/blob/main/CONFIRMA%C3%87%C3%83O_DOS_CALCULOS_ALGO3AE2025.ipynb\" target=\"_parent\"><img src=\"https://colab.research.google.com/assets/colab-badge.svg\" alt=\"Open In Colab\"/></a>"
      ]
    },
    {
      "cell_type": "code",
      "execution_count": 2,
      "metadata": {
        "colab": {
          "base_uri": "https://localhost:8080/",
          "height": 106
        },
        "id": "j4q7deBxCzlM",
        "outputId": "5e82643a-c99a-4006-9a6b-b390189e8e9e"
      },
      "outputs": [
        {
          "output_type": "error",
          "ename": "SyntaxError",
          "evalue": "invalid syntax (<ipython-input-2-3991861611>, line 1)",
          "traceback": [
            "\u001b[0;36m  File \u001b[0;32m\"<ipython-input-2-3991861611>\"\u001b[0;36m, line \u001b[0;32m1\u001b[0m\n\u001b[0;31m    CONFIRMAÇÃO DOS CÁLCULOS ALGORITMO ALGO3AE2025\u001b[0m\n\u001b[0m                ^\u001b[0m\n\u001b[0;31mSyntaxError\u001b[0m\u001b[0;31m:\u001b[0m invalid syntax\n"
          ]
        }
      ],
      "source": [
        "CONFIRMAÇÃO DOS CÁLCULOS ALGORITMO ALGO3AE2025"
      ]
    },
    {
      "cell_type": "markdown",
      "source": [
        "CONFORMAÇÃO DE RESULTADO ALGORITMO ALGO3AE2025"
      ],
      "metadata": {
        "id": "5wmiPBZfDcsX"
      }
    },
    {
      "cell_type": "code",
      "source": [
        "import random\n",
        "import math\n",
        "\n",
        "# Criando a classe que representa um artefato alienígena\n",
        "class ArtefatoAlienigena:\n",
        "    \"\"\"\n",
        "    Esta classe modela um artefato alienígena e calcula sua probabilidade de ser uma ameaça,\n",
        "    além de determinar se ele é um \"Morador\" ou um \"Visitante\" com base em seus atributos.\n",
        "    \"\"\"\n",
        "\n",
        "    def __init__(self, **kwargs):\n",
        "        \"\"\"\n",
        "        O método __init__ é o construtor da classe.\n",
        "        Ele inicializa os atributos do artefato e define a origem com base em critérios geológicos e históricos.\n",
        "\n",
        "        Os atributos são recebidos como argumentos nomeados (**kwargs) e possuem um valor padrão de 5,\n",
        "        caso não sejam fornecidos explicitamente.\n",
        "\n",
        "        Parâmetros:\n",
        "        - kwargs: atributos do artefato (exemplo: tecnologia, impacto ambiental, etc.)\n",
        "        \"\"\"\n",
        "\n",
        "        # Definição dos atributos principais\n",
        "        self.atributos = {atributo: kwargs.get(atributo, 5) for atributo in [\n",
        "            \"registro_arqueologico\", \"impacto_ambiental\", \"analise_quimica\", \"analise_biologica\"\n",
        "        ]}\n",
        "\n",
        "        # A origem do artefato é determinada automaticamente com base nos atributos geológicos e históricos\n",
        "        self.origem = self.definir_origem()\n",
        "\n",
        "    def definir_origem(self):\n",
        "        \"\"\"\n",
        "        Método que define se o artefato é um \"Morador\" (nativo da Terra) ou \"Visitante\" (de origem extraterrestre).\n",
        "        A classificação é baseada nos atributos de registro arqueológico, impacto ambiental, análise química e biológica.\n",
        "\n",
        "        Retorna:\n",
        "        - \"Morador\" se os critérios forem atendidos.\n",
        "        - \"Visitante\" caso contrário.\n",
        "        \"\"\"\n",
        "\n",
        "        if (self.atributos[\"registro_arqueologico\"] >= 10 and\n",
        "            self.atributos[\"impacto_ambiental\"] >= 10 and\n",
        "            self.atributos[\"analise_quimica\"] >= 10 and\n",
        "            self.atributos[\"analise_biologica\"] >= 10):\n",
        "            return \"Morador\"\n",
        "        else:\n",
        "            return \"Visitante\"\n",
        "\n",
        "    def calcular_ameaca(self):\n",
        "        \"\"\"\n",
        "        Este método calcula a probabilidade de ameaça do artefato com base em seus atributos.\n",
        "\n",
        "        O cálculo considera a soma ponderada dos atributos definidos, normalizada para um intervalo de 0 a 100%.\n",
        "        Isso garante que a probabilidade de ameaça seja **dinâmica**, refletindo a influência de cada fator.\n",
        "\n",
        "        Retorna:\n",
        "        - String formatada com a probabilidade de ameaça e a origem do artefato.\n",
        "        \"\"\"\n",
        "\n",
        "        # Cálculo da pontuação de ameaça com base nos atributos\n",
        "        score = sum(self.atributos.get(fator, 5) * 10 for fator in self.atributos)\n",
        "        score = (score / (15 * len(self.atributos) * 10)) * 100\n",
        "        score = min(score, 99.99)  # Limite superior de 99.99% para evitar distorções\n",
        "\n",
        "        # Retorno formatado com as informações de análise\n",
        "        return f\"\\n--- ANÁLISE FINAL ---\\n**PROBABILIDADE DE AMEAÇA: {score:.2f}%**\\n🛸 **ORIGEM DO ARTEFATO:** {self.origem}\"\n",
        "\n",
        "# Criando um artefato para análise\n",
        "artefato = ArtefatoAlienigena(\n",
        "    registro_arqueologico=12, impacto_ambiental=11, analise_quimica=12, analise_biologica=10\n",
        ")\n",
        "\n",
        "# Executando a análise e exibindo o resultado\n",
        "resultado = artefato.calcular_ameaca()\n",
        "print(resultado)"
      ],
      "metadata": {
        "colab": {
          "base_uri": "https://localhost:8080/"
        },
        "id": "8lxxoaiDDpKP",
        "outputId": "6d6652e6-96e4-4b56-b171-c7da5e66f6b6"
      },
      "execution_count": 3,
      "outputs": [
        {
          "output_type": "stream",
          "name": "stdout",
          "text": [
            "\n",
            "--- ANÁLISE FINAL ---\n",
            "**PROBABILIDADE DE AMEAÇA: 75.00%**\n",
            "🛸 **ORIGEM DO ARTEFATO:** Morador\n"
          ]
        }
      ]
    },
    {
      "cell_type": "code",
      "source": [
        "import random\n",
        "import math\n",
        "\n",
        "# Criando a classe que representa um artefato alienígena\n",
        "class ArtefatoAlienigena:\n",
        "    \"\"\"\n",
        "    Esta classe modela um artefato alienígena e calcula sua probabilidade de ser uma ameaça,\n",
        "    além de determinar se ele é um \"Morador\" ou um \"Visitante\" com base em seus atributos.\n",
        "    \"\"\"\n",
        "\n",
        "    def __init__(self, **kwargs):\n",
        "        \"\"\"\n",
        "        O método __init__ é o construtor da classe.\n",
        "        Ele inicializa os atributos do artefato e define a origem com base em critérios geológicos e históricos.\n",
        "\n",
        "        Os atributos são recebidos como argumentos nomeados (**kwargs) e possuem um valor padrão de 5,\n",
        "        caso não sejam fornecidos explicitamente.\n",
        "\n",
        "        Parâmetros:\n",
        "        - kwargs: atributos do artefato (exemplo: tecnologia, impacto ambiental, etc.)\n",
        "        \"\"\"\n",
        "\n",
        "        # Definição dos atributos principais\n",
        "        self.atributos = {atributo: kwargs.get(atributo, 5) for atributo in [\n",
        "            \"registro_arqueologico\", \"impacto_ambiental\", \"analise_quimica\", \"analise_biologica\"\n",
        "        ]}\n",
        "\n",
        "        # A origem do artefato é determinada automaticamente com base nos atributos geológicos e históricos\n",
        "        self.origem = self.definir_origem()\n",
        "\n",
        "    def definir_origem(self):\n",
        "        \"\"\"\n",
        "        Método que define se o artefato é um \"Morador\" (nativo da Terra) ou \"Visitante\" (de origem extraterrestre).\n",
        "        A classificação é baseada nos atributos de registro arqueológico, impacto ambiental, análise química e biológica.\n",
        "\n",
        "        Retorna:\n",
        "        - \"Morador\" se os critérios forem atendidos.\n",
        "        - \"Visitante\" caso contrário.\n",
        "        \"\"\"\n",
        "\n",
        "        if (self.atributos[\"registro_arqueologico\"] >= 10 and\n",
        "            self.atributos[\"impacto_ambiental\"] >= 10 and\n",
        "            self.atributos[\"analise_quimica\"] >= 10 and\n",
        "            self.atributos[\"analise_biologica\"] >= 10):\n",
        "            return \"Morador\"\n",
        "        else:\n",
        "            return \"Visitante\"\n",
        "\n",
        "    def calcular_ameaca(self):\n",
        "        \"\"\"\n",
        "        Este método calcula a probabilidade de ameaça do artefato com base em seus atributos.\n",
        "\n",
        "        O cálculo considera a soma ponderada dos atributos definidos, normalizada para um intervalo de 0 a 100%.\n",
        "        Isso garante que a probabilidade de ameaça seja **dinâmica**, refletindo a influência de cada fator.\n",
        "\n",
        "        Retorna:\n",
        "        - String formatada com a probabilidade de ameaça e a origem do artefato.\n",
        "        \"\"\"\n",
        "\n",
        "        # Cálculo da pontuação de ameaça com base nos atributos\n",
        "        score = sum(self.atributos.get(fator, 5) * 10 for fator in self.atributos)\n",
        "        score = (score / (15 * len(self.atributos) * 10)) * 100\n",
        "        score = min(score, 99.99)  # Limite superior de 99.99% para evitar distorções\n",
        "\n",
        "        # Retorno formatado com as informações de análise\n",
        "        return f\"\\n--- ANÁLISE FINAL ---\\n**PROBABILIDADE DE AMEAÇA: {score:.2f}%**\\n🛸 **ORIGEM DO ARTEFATO:** {self.origem}\"\n",
        "\n",
        "# Criando um artefato para análise\n",
        "artefato = ArtefatoAlienigena(\n",
        "    registro_arqueologico=12, impacto_ambiental=11, analise_quimica=12, analise_biologica=10\n",
        ")\n",
        "\n",
        "# Executando a análise e exibindo o resultado\n",
        "resultado = artefato.calcular_ameaca()\n",
        "print(resultado)"
      ],
      "metadata": {
        "colab": {
          "base_uri": "https://localhost:8080/"
        },
        "id": "fMozPgC6C4T3",
        "outputId": "6a1fdee4-614d-42de-cffd-ec86e08dac9c"
      },
      "execution_count": 1,
      "outputs": [
        {
          "output_type": "stream",
          "name": "stdout",
          "text": [
            "\n",
            "--- ANÁLISE FINAL ---\n",
            "**PROBABILIDADE DE AMEAÇA: 75.00%**\n",
            "🛸 **ORIGEM DO ARTEFATO:** Morador\n"
          ]
        }
      ]
    },
    {
      "cell_type": "markdown",
      "source": [],
      "metadata": {
        "id": "xECW6VX9C05H"
      }
    }
  ]
}